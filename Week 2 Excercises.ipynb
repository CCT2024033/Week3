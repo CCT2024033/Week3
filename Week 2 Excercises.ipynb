{
 "cells": [
  {
   "cell_type": "markdown",
   "id": "477a805a",
   "metadata": {},
   "source": [
    "## Exercise 1\n",
    "Rewrite your pay computation to give the employee 1.5\n",
    "times the hourly rate for hours worked above 40 hours.\n"
   ]
  },
  {
   "cell_type": "code",
   "execution_count": 3,
   "id": "416ee738",
   "metadata": {},
   "outputs": [
    {
     "name": "stdout",
     "output_type": "stream",
     "text": [
      "What are yours hours?\n",
      "45\n",
      "What is yours rate?\n",
      "10\n",
      "Your pay is : €475.0\n"
     ]
    }
   ],
   "source": [
    "h = float(input(\"What are yours hours?\\n\"))\n",
    "r = float(input(\"What is yours rate?\\n\"))\n",
    "\n",
    "if h > 40:\n",
    "    pay = (h-40)*1.5*r + 40*r\n",
    "else:\n",
    "    pay = h*r\n",
    "print(f\"Your pay is : €{pay}\")\n"
   ]
  },
  {
   "cell_type": "code",
   "execution_count": null,
   "id": "12689b9c",
   "metadata": {},
   "outputs": [],
   "source": []
  }
 ],
 "metadata": {
  "kernelspec": {
   "display_name": "Python 3 (ipykernel)",
   "language": "python",
   "name": "python3"
  },
  "language_info": {
   "codemirror_mode": {
    "name": "ipython",
    "version": 3
   },
   "file_extension": ".py",
   "mimetype": "text/x-python",
   "name": "python",
   "nbconvert_exporter": "python",
   "pygments_lexer": "ipython3",
   "version": "3.11.5"
  }
 },
 "nbformat": 4,
 "nbformat_minor": 5
}
